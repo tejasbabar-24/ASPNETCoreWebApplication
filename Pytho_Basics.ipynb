{
  "nbformat": 4,
  "nbformat_minor": 0,
  "metadata": {
    "colab": {
      "provenance": [],
      "authorship_tag": "ABX9TyNob2+b6UyBT4bPSKIAbCYA",
      "include_colab_link": true
    },
    "kernelspec": {
      "name": "python3",
      "display_name": "Python 3"
    },
    "language_info": {
      "name": "python"
    }
  },
  "cells": [
    {
      "cell_type": "markdown",
      "metadata": {
        "id": "view-in-github",
        "colab_type": "text"
      },
      "source": [
        "<a href=\"https://colab.research.google.com/github/tejasbabar-24/ASPNETCoreWebApplication/blob/main/Pytho_Basics.ipynb\" target=\"_parent\"><img src=\"https://colab.research.google.com/assets/colab-badge.svg\" alt=\"Open In Colab\"/></a>"
      ]
    },
    {
      "cell_type": "markdown",
      "source": [
        "#Concatenation of **String**"
      ],
      "metadata": {
        "id": "_dO3ublocwxY"
      }
    },
    {
      "cell_type": "code",
      "execution_count": 5,
      "metadata": {
        "colab": {
          "base_uri": "https://localhost:8080/",
          "height": 35
        },
        "id": "t2Mt50cVXjrS",
        "outputId": "8376fdc5-e09a-4727-df28-369393e7d1bb"
      },
      "outputs": [
        {
          "output_type": "execute_result",
          "data": {
            "text/plain": [
              "'1234456'"
            ],
            "application/vnd.google.colaboratory.intrinsic+json": {
              "type": "string"
            }
          },
          "metadata": {},
          "execution_count": 5
        }
      ],
      "source": [
        "\n",
        "a = '1234'\n",
        "b= '456'\n",
        "a+b\n"
      ]
    },
    {
      "cell_type": "code",
      "source": [
        "#Repeation\n",
        "\n",
        "s = 'Spam'\n",
        "print(s*4)"
      ],
      "metadata": {
        "colab": {
          "base_uri": "https://localhost:8080/"
        },
        "id": "vEce7XWTYasP",
        "outputId": "c91adb3b-ad94-4792-b6e7-4929d8d22722"
      },
      "execution_count": 7,
      "outputs": [
        {
          "output_type": "stream",
          "name": "stdout",
          "text": [
            "SpamSpamSpamSpam\n"
          ]
        }
      ]
    },
    {
      "cell_type": "code",
      "source": [
        " a = 'its rainy day'\n",
        " a*3"
      ],
      "metadata": {
        "colab": {
          "base_uri": "https://localhost:8080/",
          "height": 35
        },
        "id": "J77Z0yeoXni8",
        "outputId": "18c8a5ba-393b-40ab-8f48-95d84143fb68"
      },
      "execution_count": 8,
      "outputs": [
        {
          "output_type": "execute_result",
          "data": {
            "text/plain": [
              "'its rainy dayits rainy dayits rainy day'"
            ],
            "application/vnd.google.colaboratory.intrinsic+json": {
              "type": "string"
            }
          },
          "metadata": {},
          "execution_count": 8
        }
      ]
    },
    {
      "cell_type": "code",
      "source": [
        "#Membership operator\n",
        "\n",
        "s = 'spam'\n",
        "'sp' in s"
      ],
      "metadata": {
        "colab": {
          "base_uri": "https://localhost:8080/"
        },
        "id": "8b4cI1V1YcQq",
        "outputId": "afaf17be-4627-4343-ed86-ffe469931d12"
      },
      "execution_count": 10,
      "outputs": [
        {
          "output_type": "execute_result",
          "data": {
            "text/plain": [
              "True"
            ]
          },
          "metadata": {},
          "execution_count": 10
        }
      ]
    },
    {
      "cell_type": "code",
      "source": [
        "'map' not in s"
      ],
      "metadata": {
        "colab": {
          "base_uri": "https://localhost:8080/"
        },
        "id": "-y6DQ6l8ZMOM",
        "outputId": "53b7672e-5420-4199-a19e-7d4f59fc0152"
      },
      "execution_count": 11,
      "outputs": [
        {
          "output_type": "execute_result",
          "data": {
            "text/plain": [
              "True"
            ]
          },
          "metadata": {},
          "execution_count": 11
        }
      ]
    },
    {
      "cell_type": "markdown",
      "source": [
        "#Indexing and Slicing\n",
        "\n",
        "As Strings are orderd collections of charachters, we can acces their components by position\n",
        "\n",
        "1]STRING IN PYTHON CAN BE SLICED TO GET THE PART OF THE STRING\n",
        "\n",
        "2]INDEXES ARE CODED AS OFFSETS FROM THE FRONT, AND SO START FROM 0:THE FIRST ITEM IS AT INDEX 0,THE SECOND IS AT INDEX 1 AND SO ON"
      ],
      "metadata": {
        "id": "nl02Jw2UZ9aj"
      }
    },
    {
      "cell_type": "code",
      "source": [
        "P = 'Python'\n",
        "p[0:4] # I WANT EVERYTHING FROM 0 TO (4-1)"
      ],
      "metadata": {
        "colab": {
          "base_uri": "https://localhost:8080/",
          "height": 35
        },
        "id": "yZ5vxkcAaDr3",
        "outputId": "a9954f20-4992-4e60-f218-e4021056f9bd"
      },
      "execution_count": 23,
      "outputs": [
        {
          "output_type": "execute_result",
          "data": {
            "text/plain": [
              "'Pyth'"
            ],
            "application/vnd.google.colaboratory.intrinsic+json": {
              "type": "string"
            }
          },
          "metadata": {},
          "execution_count": 23
        }
      ]
    },
    {
      "cell_type": "code",
      "source": [
        "len(p)\n",
        "#length of p"
      ],
      "metadata": {
        "colab": {
          "base_uri": "https://localhost:8080/"
        },
        "id": "hcvCUU_ddYKC",
        "outputId": "a956f01d-1188-4696-f3c2-a0f5319cfad4"
      },
      "execution_count": 24,
      "outputs": [
        {
          "output_type": "execute_result",
          "data": {
            "text/plain": [
              "6"
            ]
          },
          "metadata": {},
          "execution_count": 24
        }
      ]
    },
    {
      "cell_type": "code",
      "source": [
        "#T\n",
        "P[2]"
      ],
      "metadata": {
        "colab": {
          "base_uri": "https://localhost:8080/",
          "height": 35
        },
        "id": "5twTtXKZbb4M",
        "outputId": "66d46242-0886-4be2-d2b2-a8bf05833959"
      },
      "execution_count": 19,
      "outputs": [
        {
          "output_type": "execute_result",
          "data": {
            "text/plain": [
              "'t'"
            ],
            "application/vnd.google.colaboratory.intrinsic+json": {
              "type": "string"
            }
          },
          "metadata": {},
          "execution_count": 19
        }
      ]
    },
    {
      "cell_type": "code",
      "source": [
        "P[5]"
      ],
      "metadata": {
        "colab": {
          "base_uri": "https://localhost:8080/",
          "height": 35
        },
        "id": "ypPR-8NvcnKA",
        "outputId": "82ca17c4-a526-4aaa-c246-1a31e1ee7352"
      },
      "execution_count": 21,
      "outputs": [
        {
          "output_type": "execute_result",
          "data": {
            "text/plain": [
              "'n'"
            ],
            "application/vnd.google.colaboratory.intrinsic+json": {
              "type": "string"
            }
          },
          "metadata": {},
          "execution_count": 21
        }
      ]
    },
    {
      "cell_type": "code",
      "source": [
        "P[-1]"
      ],
      "metadata": {
        "colab": {
          "base_uri": "https://localhost:8080/",
          "height": 35
        },
        "id": "MK-Kf_rPcsTY",
        "outputId": "ed94684b-81ee-4bec-da72-670e38a1843c"
      },
      "execution_count": 22,
      "outputs": [
        {
          "output_type": "execute_result",
          "data": {
            "text/plain": [
              "'n'"
            ],
            "application/vnd.google.colaboratory.intrinsic+json": {
              "type": "string"
            }
          },
          "metadata": {},
          "execution_count": 22
        }
      ]
    },
    {
      "cell_type": "code",
      "source": [
        "P[-4]"
      ],
      "metadata": {
        "colab": {
          "base_uri": "https://localhost:8080/",
          "height": 35
        },
        "id": "e5I9d5-pbs3N",
        "outputId": "3eeb2148-f533-4f94-987b-87a820494fa1"
      },
      "execution_count": 20,
      "outputs": [
        {
          "output_type": "execute_result",
          "data": {
            "text/plain": [
              "'t'"
            ],
            "application/vnd.google.colaboratory.intrinsic+json": {
              "type": "string"
            }
          },
          "metadata": {},
          "execution_count": 20
        }
      ]
    },
    {
      "cell_type": "markdown",
      "source": [
        "**Slicing**\n",
        "#the general form"
      ],
      "metadata": {
        "id": "uLPUquCOenZI"
      }
    },
    {
      "cell_type": "code",
      "source": [
        "a = 'Python Languae'\n",
        "\n",
        "print(a[:])#everything\n",
        "print(a[:6])\n",
        "print(a[7:])\n",
        "print(a[7:16])# start at 0 upto (16-1)15"
      ],
      "metadata": {
        "colab": {
          "base_uri": "https://localhost:8080/"
        },
        "id": "SzyPfzV0e8q3",
        "outputId": "d5914b36-ad2e-4487-cee7-6b572edd5ab6"
      },
      "execution_count": 29,
      "outputs": [
        {
          "output_type": "stream",
          "name": "stdout",
          "text": [
            "Python Languae\n",
            "Python\n",
            "Languae\n",
            "Languae\n"
          ]
        }
      ]
    },
    {
      "cell_type": "code",
      "source": [
        "name = 'Ranveer'\n",
        "\n",
        "print(name[:3])\n",
        "print(name[3:])"
      ],
      "metadata": {
        "colab": {
          "base_uri": "https://localhost:8080/"
        },
        "id": "O3su9dsEfod9",
        "outputId": "fb2f3e18-6b91-4512-ba62-78f4c548ddb7"
      },
      "execution_count": 31,
      "outputs": [
        {
          "output_type": "stream",
          "name": "stdout",
          "text": [
            "Ran\n",
            "veer\n"
          ]
        }
      ]
    },
    {
      "cell_type": "code",
      "source": [
        "p = 'python'\n",
        "\n",
        "p[-5:-2]\n"
      ],
      "metadata": {
        "colab": {
          "base_uri": "https://localhost:8080/",
          "height": 35
        },
        "id": "ntelnBKpgEtL",
        "outputId": "e6ef91c7-6a0f-41c2-ae67-4c629b9be284"
      },
      "execution_count": 37,
      "outputs": [
        {
          "output_type": "execute_result",
          "data": {
            "text/plain": [
              "'yth'"
            ],
            "application/vnd.google.colaboratory.intrinsic+json": {
              "type": "string"
            }
          },
          "metadata": {},
          "execution_count": 37
        }
      ]
    },
    {
      "cell_type": "code",
      "source": [
        "p[-3:]"
      ],
      "metadata": {
        "colab": {
          "base_uri": "https://localhost:8080/",
          "height": 35
        },
        "id": "2gumJi74hAP8",
        "outputId": "4fd053a0-9a54-42f4-f420-d94e833d4f6a"
      },
      "execution_count": 38,
      "outputs": [
        {
          "output_type": "execute_result",
          "data": {
            "text/plain": [
              "'hon'"
            ],
            "application/vnd.google.colaboratory.intrinsic+json": {
              "type": "string"
            }
          },
          "metadata": {},
          "execution_count": 38
        }
      ]
    },
    {
      "cell_type": "code",
      "source": [
        "p[1:-2]"
      ],
      "metadata": {
        "colab": {
          "base_uri": "https://localhost:8080/",
          "height": 35
        },
        "id": "tYqGfaYvhLPr",
        "outputId": "43459935-a2af-4073-befc-3a16ae3ce209"
      },
      "execution_count": 39,
      "outputs": [
        {
          "output_type": "execute_result",
          "data": {
            "text/plain": [
              "'yth'"
            ],
            "application/vnd.google.colaboratory.intrinsic+json": {
              "type": "string"
            }
          },
          "metadata": {},
          "execution_count": 39
        }
      ]
    },
    {
      "cell_type": "markdown",
      "source": [
        "#string is immutable-in place change are not possible"
      ],
      "metadata": {
        "id": "2NSm7jgkhj8L"
      }
    },
    {
      "cell_type": "code",
      "source": [
        "s = 'span'\n",
        "s"
      ],
      "metadata": {
        "colab": {
          "base_uri": "https://localhost:8080/",
          "height": 35
        },
        "id": "3efjCQlZhjlk",
        "outputId": "2adafa13-0857-4a1e-8aea-ab344e33d332"
      },
      "execution_count": 40,
      "outputs": [
        {
          "output_type": "execute_result",
          "data": {
            "text/plain": [
              "'span'"
            ],
            "application/vnd.google.colaboratory.intrinsic+json": {
              "type": "string"
            }
          },
          "metadata": {},
          "execution_count": 40
        }
      ]
    },
    {
      "cell_type": "code",
      "source": [
        "s = 'z' + s[1:]\n",
        "s"
      ],
      "metadata": {
        "colab": {
          "base_uri": "https://localhost:8080/",
          "height": 35
        },
        "id": "blXhQ2F0iWzb",
        "outputId": "ca9801b6-48b5-4a1e-9d69-7a58a403dcb5"
      },
      "execution_count": 42,
      "outputs": [
        {
          "output_type": "execute_result",
          "data": {
            "text/plain": [
              "'zpan'"
            ],
            "application/vnd.google.colaboratory.intrinsic+json": {
              "type": "string"
            }
          },
          "metadata": {},
          "execution_count": 42
        }
      ]
    },
    {
      "cell_type": "code",
      "source": [
        "name = 'tejas'\n",
        "\n",
        "name = 's' + name[1:]\n",
        "name"
      ],
      "metadata": {
        "colab": {
          "base_uri": "https://localhost:8080/",
          "height": 35
        },
        "id": "ipUoqtOcilU9",
        "outputId": "e93bd80c-ac63-4dfc-9927-13d3855f287d"
      },
      "execution_count": 44,
      "outputs": [
        {
          "output_type": "execute_result",
          "data": {
            "text/plain": [
              "'sejas'"
            ],
            "application/vnd.google.colaboratory.intrinsic+json": {
              "type": "string"
            }
          },
          "metadata": {},
          "execution_count": 44
        }
      ]
    },
    {
      "cell_type": "markdown",
      "source": [
        "extended slicing"
      ],
      "metadata": {
        "id": "vaumQD3RkpVi"
      }
    },
    {
      "cell_type": "code",
      "source": [
        "a = 'abcdefghijklmno'\n",
        "\n",
        "a[:] #default value for step is\n",
        "print(a[::4])\n",
        "print(a[0:6:2])"
      ],
      "metadata": {
        "colab": {
          "base_uri": "https://localhost:8080/"
        },
        "id": "M5On4zyYkrhd",
        "outputId": "def076fe-cd20-4357-b7ce-0669791de10d"
      },
      "execution_count": 49,
      "outputs": [
        {
          "output_type": "stream",
          "name": "stdout",
          "text": [
            "aeim\n",
            "ace\n"
          ]
        }
      ]
    },
    {
      "cell_type": "code",
      "source": [
        "s = 'spam'\n",
        "s[::-1]"
      ],
      "metadata": {
        "colab": {
          "base_uri": "https://localhost:8080/",
          "height": 35
        },
        "id": "GnkznQnClQ_9",
        "outputId": "8c363026-0667-4596-f072-afe8d4c30a9f"
      },
      "execution_count": 51,
      "outputs": [
        {
          "output_type": "execute_result",
          "data": {
            "text/plain": [
              "'maps'"
            ],
            "application/vnd.google.colaboratory.intrinsic+json": {
              "type": "string"
            }
          },
          "metadata": {},
          "execution_count": 51
        }
      ]
    },
    {
      "cell_type": "code",
      "source": [
        "p = 'Learing python is easy'\n",
        "\n",
        "p[0:2]"
      ],
      "metadata": {
        "colab": {
          "base_uri": "https://localhost:8080/",
          "height": 35
        },
        "id": "NKHMgWrali6M",
        "outputId": "8581fecf-23c9-478d-dc3e-8aa9f55fbfa4"
      },
      "execution_count": 54,
      "outputs": [
        {
          "output_type": "execute_result",
          "data": {
            "text/plain": [
              "'Le'"
            ],
            "application/vnd.google.colaboratory.intrinsic+json": {
              "type": "string"
            }
          },
          "metadata": {},
          "execution_count": 54
        }
      ]
    },
    {
      "cell_type": "code",
      "source": [
        "p[-2:]"
      ],
      "metadata": {
        "colab": {
          "base_uri": "https://localhost:8080/",
          "height": 35
        },
        "id": "6kvLilhRl9GI",
        "outputId": "dcace979-a183-4395-bd5c-c5f13ee65201"
      },
      "execution_count": 55,
      "outputs": [
        {
          "output_type": "execute_result",
          "data": {
            "text/plain": [
              "'sy'"
            ],
            "application/vnd.google.colaboratory.intrinsic+json": {
              "type": "string"
            }
          },
          "metadata": {},
          "execution_count": 55
        }
      ]
    },
    {
      "cell_type": "code",
      "source": [
        "print(p[0:2]+p[-2:])"
      ],
      "metadata": {
        "colab": {
          "base_uri": "https://localhost:8080/"
        },
        "id": "k6qlgnfSmBrI",
        "outputId": "17438fa2-2a78-41e7-9e4e-b4972b8fd6bb"
      },
      "execution_count": 56,
      "outputs": [
        {
          "output_type": "stream",
          "name": "stdout",
          "text": [
            "Lesy\n"
          ]
        }
      ]
    },
    {
      "cell_type": "code",
      "source": [
        "p = 'Python'\n",
        "b = 'language'\n",
        "\n",
        "print(b[:2])\n",
        "print(p[1:])\n",
        "print(b[:2]+p[1:])\n",
        "\n",
        "print(p[0:2])\n",
        "print(b[2:])\n",
        "print(p[0:2]+b[2:])\n",
        "\n",
        "print(b[:2]+p[1:] + p[0:2]+b[2:])"
      ],
      "metadata": {
        "colab": {
          "base_uri": "https://localhost:8080/"
        },
        "id": "Bz86gVtvmTR1",
        "outputId": "d85cb6e0-e214-4c95-c646-42118b988354"
      },
      "execution_count": 63,
      "outputs": [
        {
          "output_type": "stream",
          "name": "stdout",
          "text": [
            "la\n",
            "ython\n",
            "laython\n",
            "Py\n",
            "nguage\n",
            "Pynguage\n",
            "laythonPynguage\n"
          ]
        }
      ]
    },
    {
      "cell_type": "code",
      "source": [
        "#return lowest index in b and on failulre -1\n",
        "\n",
        "b = 'beutiful'\n",
        "b.find('u')"
      ],
      "metadata": {
        "colab": {
          "base_uri": "https://localhost:8080/"
        },
        "id": "FyladXAwpL58",
        "outputId": "509756d5-87b5-4a40-c0e0-4f57d3db0e18"
      },
      "execution_count": 72,
      "outputs": [
        {
          "output_type": "execute_result",
          "data": {
            "text/plain": [
              "2"
            ]
          },
          "metadata": {},
          "execution_count": 72
        }
      ]
    },
    {
      "cell_type": "code",
      "source": [
        "#Replace\n",
        "\n",
        "b.replace(\"ful\",'less')\n"
      ],
      "metadata": {
        "colab": {
          "base_uri": "https://localhost:8080/",
          "height": 35
        },
        "id": "LUnxtpyUpZJk",
        "outputId": "9896c277-533e-4f0f-f394-6d6b6edf619c"
      },
      "execution_count": 73,
      "outputs": [
        {
          "output_type": "execute_result",
          "data": {
            "text/plain": [
              "'beutiless'"
            ],
            "application/vnd.google.colaboratory.intrinsic+json": {
              "type": "string"
            }
          },
          "metadata": {},
          "execution_count": 73
        }
      ]
    },
    {
      "cell_type": "code",
      "source": [
        "#Split\n",
        "#Return a list of the substring in the string, using sep as the seprator string\n",
        "r= 'a,bb,ccc,dddd'\n",
        "r.split(sep=',')"
      ],
      "metadata": {
        "colab": {
          "base_uri": "https://localhost:8080/"
        },
        "id": "RvRmaOHWpxJf",
        "outputId": "761ecf61-182c-4b5c-a4b1-52eec0fc5738"
      },
      "execution_count": 74,
      "outputs": [
        {
          "output_type": "execute_result",
          "data": {
            "text/plain": [
              "['a', 'bb', 'ccc', 'dddd']"
            ]
          },
          "metadata": {},
          "execution_count": 74
        }
      ]
    },
    {
      "cell_type": "code",
      "source": [
        "#Strip - Return a copy of  the string with leading and trailing whitespace removed\n",
        "\n",
        "a ='      sana    '\n",
        "a.strip()"
      ],
      "metadata": {
        "colab": {
          "base_uri": "https://localhost:8080/",
          "height": 35
        },
        "id": "m4ihTteUqd10",
        "outputId": "525ae4af-53d2-4a5c-cdc1-0671e246df66"
      },
      "execution_count": 75,
      "outputs": [
        {
          "output_type": "execute_result",
          "data": {
            "text/plain": [
              "'sana'"
            ],
            "application/vnd.google.colaboratory.intrinsic+json": {
              "type": "string"
            }
          },
          "metadata": {},
          "execution_count": 75
        }
      ]
    },
    {
      "cell_type": "code",
      "source": [
        "#Uppercase And Lowercase\n",
        "\n",
        "name = 'tejas babar'\n",
        "\n",
        "print(name.upper())\n",
        "print(name.lower())\n",
        "print(name.title())"
      ],
      "metadata": {
        "colab": {
          "base_uri": "https://localhost:8080/"
        },
        "id": "zfbUZ0DPqy0b",
        "outputId": "6b8af9c4-74e0-468e-eb80-416b2cd4156a"
      },
      "execution_count": 79,
      "outputs": [
        {
          "output_type": "stream",
          "name": "stdout",
          "text": [
            "TEJAS BABAR\n",
            "tejas babar\n",
            "Tejas Babar\n"
          ]
        }
      ]
    },
    {
      "cell_type": "code",
      "source": [
        "#isdigit( return true if digit is present)\n",
        "\n",
        "a = '12344'\n",
        "a.isdigit()"
      ],
      "metadata": {
        "colab": {
          "base_uri": "https://localhost:8080/"
        },
        "id": "yxXuC6wmrpvb",
        "outputId": "f03804f2-f8ef-4ec6-f2e3-fc4b43aa38d3"
      },
      "execution_count": 80,
      "outputs": [
        {
          "output_type": "execute_result",
          "data": {
            "text/plain": [
              "True"
            ]
          },
          "metadata": {},
          "execution_count": 80
        }
      ]
    },
    {
      "cell_type": "code",
      "source": [
        "#isalpha return true if alphabetic character is present\n",
        "\n",
        "b = 'babar'\n",
        "b.isalpha()"
      ],
      "metadata": {
        "colab": {
          "base_uri": "https://localhost:8080/"
        },
        "id": "az2Tuoimsyng",
        "outputId": "11e9a18f-7877-4fbb-aedf-267041e4ba67"
      },
      "execution_count": 83,
      "outputs": [
        {
          "output_type": "execute_result",
          "data": {
            "text/plain": [
              "True"
            ]
          },
          "metadata": {},
          "execution_count": 83
        }
      ]
    },
    {
      "cell_type": "code",
      "source": [
        "#String Formation\n",
        "\n",
        "name = 'krish'\n",
        "age = 14\n",
        "\n",
        "formatted_string='my name is %s and i am %d year old'%(name,age)\n",
        "print(formatted_string)"
      ],
      "metadata": {
        "colab": {
          "base_uri": "https://localhost:8080/"
        },
        "id": "4-UhRKcQuOhO",
        "outputId": "acc06d67-a2d5-4129-b61a-2c6ed4c57ba0"
      },
      "execution_count": 86,
      "outputs": [
        {
          "output_type": "stream",
          "name": "stdout",
          "text": [
            "my name is krish and i am 14 year old\n"
          ]
        }
      ]
    },
    {
      "cell_type": "code",
      "source": [
        "#using str.format{} method is more powerful and flexible compared to the % operator\n",
        "\n",
        "formatted_string='my name is {} and i am {} year old'.format(name,age)\n",
        "print(formatted_string)\n"
      ],
      "metadata": {
        "colab": {
          "base_uri": "https://localhost:8080/"
        },
        "id": "3h0J3w6zvTCL",
        "outputId": "44999e6b-f755-4e28-abcb-b5f4ccbbefb3"
      },
      "execution_count": 87,
      "outputs": [
        {
          "output_type": "stream",
          "name": "stdout",
          "text": [
            "my name is krish and i am 14 year old\n"
          ]
        }
      ]
    },
    {
      "cell_type": "code",
      "source": [],
      "metadata": {
        "id": "T7Q2hr5_uRzD"
      },
      "execution_count": null,
      "outputs": []
    }
  ]
}